{
  "nbformat": 4,
  "nbformat_minor": 0,
  "metadata": {
    "colab": {
      "name": "LoadAndExploreData.ipynb",
      "provenance": [],
      "toc_visible": true,
      "include_colab_link": true
    },
    "kernelspec": {
      "name": "python3",
      "display_name": "Python 3"
    },
    "language_info": {
      "name": "python"
    }
  },
  "cells": [
    {
      "cell_type": "markdown",
      "metadata": {
        "id": "view-in-github",
        "colab_type": "text"
      },
      "source": [
        "<a href=\"https://colab.research.google.com/github/AtillaOezyurt/BigDataAnalytics_DataDepot/blob/main/LoadAndExploreData.ipynb\" target=\"_parent\"><img src=\"https://colab.research.google.com/assets/colab-badge.svg\" alt=\"Open In Colab\"/></a>"
      ]
    },
    {
      "cell_type": "markdown",
      "metadata": {
        "id": "LCFekHd6vbYZ"
      },
      "source": [
        "# Download of data sources"
      ]
    },
    {
      "cell_type": "markdown",
      "metadata": {
        "id": "hKMiVyb13tyI"
      },
      "source": [
        "## Download of tankerkoenig data"
      ]
    },
    {
      "cell_type": "markdown",
      "metadata": {
        "id": "Z7bOG8pA-cgq"
      },
      "source": [
        "### Sustainably load data from tankerkoenig.de\n"
      ]
    },
    {
      "cell_type": "markdown",
      "metadata": {
        "id": "_BmH0vSrw8PO"
      },
      "source": [
        "At first, we installed an automated spell-checker for the english markdown content:"
      ]
    },
    {
      "cell_type": "code",
      "metadata": {
        "id": "kY1-aoq4xBV5"
      },
      "source": [
        "!pip install jupyter_contrib_nbextensions\n",
        "!jupyter contrib nbextension install --user\n",
        "!jupyter nbextension enable spellchecker/main"
      ],
      "execution_count": null,
      "outputs": []
    },
    {
      "cell_type": "markdown",
      "metadata": {
        "id": "u1ZmKb6juTEz"
      },
      "source": [
        "### First approach: Load tankerkoenig data into google drive (failed)"
      ]
    },
    {
      "cell_type": "markdown",
      "metadata": {
        "id": "uoaBYIRU77ZF"
      },
      "source": [
        "The following description is based on this source: https://medium.com/@ashwindesilva/how-to-use-google-colaboratory-to-clone-a-github-repository-e07cf8d3d22b"
      ]
    },
    {
      "cell_type": "markdown",
      "metadata": {
        "id": "_N14hkvH6GM_"
      },
      "source": [
        "Since we plan to store our project realted files in the project_folder, we have to mount our google drive in to this runtime. In this way, we have access to the required data from any device as it is stored decentral within the googe cloud. In order to do that, we ran the following cell: [Source](https://medium.com/@ashwindesilva/how-to-use-google-colaboratory-to-clone-a-github-repository-e07cf8d3d22b)"
      ]
    },
    {
      "cell_type": "code",
      "metadata": {
        "id": "j8k9tqFY4qHL",
        "colab": {
          "base_uri": "https://localhost:8080/"
        },
        "outputId": "f08baa52-a998-4850-997e-ffb6689d85f3"
      },
      "source": [
        "from google.colab import drive\n",
        "drive.mount(\"/content/gdrive\")"
      ],
      "execution_count": 1,
      "outputs": [
        {
          "output_type": "stream",
          "text": [
            "Mounted at /content/gdrive\n"
          ],
          "name": "stdout"
        }
      ]
    },
    {
      "cell_type": "markdown",
      "metadata": {
        "id": "v4h-rTyf6QSz"
      },
      "source": [
        "After creation of the project_folder, we changed to this directory with the following code:"
      ]
    },
    {
      "cell_type": "code",
      "metadata": {
        "id": "JyUOJwjsJyrq"
      },
      "source": [
        "%cd gdrive/MyDrive"
      ],
      "execution_count": null,
      "outputs": []
    },
    {
      "cell_type": "markdown",
      "metadata": {
        "id": "7AuwTYHVKW9t"
      },
      "source": [
        "To create the appropriate project folder, we ran the following cell:"
      ]
    },
    {
      "cell_type": "code",
      "metadata": {
        "id": "jcUEZl9CKAa6"
      },
      "source": [
        "%mkdir project_folder"
      ],
      "execution_count": null,
      "outputs": []
    },
    {
      "cell_type": "markdown",
      "metadata": {
        "id": "hK4WeayBKkzn"
      },
      "source": [
        "To change the current path to our project folder, we ran the follwing cell:"
      ]
    },
    {
      "cell_type": "code",
      "metadata": {
        "id": "xfnGvEui40z0",
        "colab": {
          "base_uri": "https://localhost:8080/"
        },
        "outputId": "e6a78e4b-d270-4f40-e763-d7e86b2b3e4e"
      },
      "source": [
        "%cd project_folder"
      ],
      "execution_count": null,
      "outputs": [
        {
          "output_type": "stream",
          "text": [
            "/content/gdrive/MyDrive/project_folder\n"
          ],
          "name": "stdout"
        }
      ]
    },
    {
      "cell_type": "markdown",
      "metadata": {
        "id": "jTEHl_z4--4G"
      },
      "source": [
        "In order to being able to load such a large amount of data (20 GB+), it is necessary to increase the buffer-size to 530.288.000.000 Bytes and install required libraries (in case it is not already installed). Therefore we ran the following cell: [Source](https://stackoverflow.com/questions/46232906/git-clone-error-rpc-failed-curl-56-openssl-ssl-read-ssl-error-syscall-errno)"
      ]
    },
    {
      "cell_type": "code",
      "metadata": {
        "id": "ONnwHXBJ-NwT"
      },
      "source": [
        "!git config --global http.postBuffer 530288000000\n",
        "!apt install gnutls-bin\n",
        "!sudo apt install openssl"
      ],
      "execution_count": null,
      "outputs": []
    },
    {
      "cell_type": "markdown",
      "metadata": {
        "id": "efZUha-e7Ur8"
      },
      "source": [
        "Now that we are in the correct folder for our data, we need to clone the git repository of tankerkoenig. The advantage of this is, that we can pull every day to continuously receive up-to-date data.\n",
        " We did this by running the following cell:"
      ]
    },
    {
      "cell_type": "code",
      "metadata": {
        "id": "ru-yR1gm-Vvo"
      },
      "source": [
        "!git clone http://tankerkoenig@dev.azure.com/tankerkoenig/tankerkoenig-data/_git/tankerkoenig-data"
      ],
      "execution_count": null,
      "outputs": []
    },
    {
      "cell_type": "markdown",
      "metadata": {
        "id": "dTzT94eJHwQq"
      },
      "source": [
        "Now we want to update the data set continuously by pulling from the tankerkoenig repository. Therefore, we firstly need to change the directory to /tankerkoenig-data, as this is the location of the hidden git file. (%cd tankerkoenig-data). After this we simply run the following cell for pulling updates on the tankerkoenig data set:"
      ]
    },
    {
      "cell_type": "code",
      "metadata": {
        "id": "cyXGyEn2H4zX"
      },
      "source": [
        "!git pull"
      ],
      "execution_count": null,
      "outputs": []
    },
    {
      "cell_type": "markdown",
      "metadata": {
        "id": "00dePnz7um6o"
      },
      "source": [
        "***This apprach did not work as we only have 15 GB of free memory within the Google drive. Therefore, several disk errors occured and tankerkoenig data got deleted. For this reason we switched to the second approach which is described in the following:***"
      ]
    },
    {
      "cell_type": "markdown",
      "metadata": {
        "id": "Cr0cvZm9uce2"
      },
      "source": [
        "### Second approach: Load data into free disk space of the notebook (failed)"
      ]
    },
    {
      "cell_type": "markdown",
      "metadata": {
        "id": "Pmqj77Llu4V6"
      },
      "source": [
        "First, we create a project_folder within the notebook disk structure:"
      ]
    },
    {
      "cell_type": "code",
      "metadata": {
        "id": "OoWnvsfKvPZT"
      },
      "source": [
        "%ls"
      ],
      "execution_count": null,
      "outputs": []
    },
    {
      "cell_type": "markdown",
      "metadata": {
        "id": "AoPR-Ea0v4Eq"
      },
      "source": [
        "Switch into the content folder:"
      ]
    },
    {
      "cell_type": "code",
      "metadata": {
        "id": "NdQWftaNu-GV"
      },
      "source": [
        "%cd /content/\n"
      ],
      "execution_count": null,
      "outputs": []
    },
    {
      "cell_type": "markdown",
      "metadata": {
        "id": "tBDw8_yWv6mo"
      },
      "source": [
        "Create a new project_folder for the tankerkoenig data:"
      ]
    },
    {
      "cell_type": "code",
      "metadata": {
        "id": "RTJ73eadvVIW"
      },
      "source": [
        "%mkdir project_folder"
      ],
      "execution_count": null,
      "outputs": []
    },
    {
      "cell_type": "markdown",
      "metadata": {
        "id": "VQv3lpZpv-7C"
      },
      "source": [
        "Change current path into the newly created folder:"
      ]
    },
    {
      "cell_type": "code",
      "metadata": {
        "id": "s-dUxL3RvZoS"
      },
      "source": [
        "%cd project_folder/"
      ],
      "execution_count": null,
      "outputs": []
    },
    {
      "cell_type": "markdown",
      "metadata": {
        "id": "1B6N38nOwIjp"
      },
      "source": [
        "Increase buffer size (as the whole data set exceeds 45 GB by 05/2021) and intall required libraries to avoid errors that occured within our first approach:"
      ]
    },
    {
      "cell_type": "code",
      "metadata": {
        "id": "ZGm-K4r0vcah"
      },
      "source": [
        "!git config --global http.postBuffer 530288000000\n",
        "!apt install gnutls-bin\n",
        "!sudo apt install openssl"
      ],
      "execution_count": null,
      "outputs": []
    },
    {
      "cell_type": "code",
      "metadata": {
        "id": "Ay_gHZz2vnpe"
      },
      "source": [
        "!git clone http://tankerkoenig@dev.azure.com/tankerkoenig/tankerkoenig-data/_git/tankerkoenig-data"
      ],
      "execution_count": null,
      "outputs": []
    },
    {
      "cell_type": "markdown",
      "metadata": {
        "id": "8SycsO-kyN4Y"
      },
      "source": [
        "If we now want to run git pull on the tankerkoenig repository to load the most recent data, we firstly need to change directory into the tankerkoenig-data folder and run git pull:"
      ]
    },
    {
      "cell_type": "code",
      "metadata": {
        "id": "rhTPVqbTypOq"
      },
      "source": [
        "%cd tankerkoenig-data\n",
        "!git pull"
      ],
      "execution_count": null,
      "outputs": []
    },
    {
      "cell_type": "markdown",
      "metadata": {
        "id": "KB4lkg1T2-us"
      },
      "source": [
        "***Sadly, we figured out after some time, that the data is just short-term stored within the notebook disk space. Therefore we decided to upgrade our google drive disk space in order to decentrally store the tankerkoenig data in the google cloud and being able to access the data from any device.***"
      ]
    },
    {
      "cell_type": "markdown",
      "metadata": {
        "id": "9uecvSH_d38q"
      },
      "source": [
        "----------------------------------------------------------------------------"
      ]
    },
    {
      "cell_type": "markdown",
      "metadata": {
        "id": "DyM54IYndh7Y"
      },
      "source": [
        "### Sustainably load data from tankerkoenig.de  - Version 2 -"
      ]
    },
    {
      "cell_type": "markdown",
      "metadata": {
        "id": "AYjbTjJNf2fG"
      },
      "source": [
        "#### Installing optional libraries and plugins"
      ]
    },
    {
      "cell_type": "markdown",
      "metadata": {
        "id": "jarqRiEkdst0"
      },
      "source": [
        "At first, we installed an automated spell-checker for the english markdown content:"
      ]
    },
    {
      "cell_type": "code",
      "metadata": {
        "id": "4wG53butdzRO"
      },
      "source": [
        "!pip install jupyter_contrib_nbextensions\n",
        "!jupyter contrib nbextension install --user\n",
        "!jupyter nbextension enable spellchecker/main"
      ],
      "execution_count": null,
      "outputs": []
    },
    {
      "cell_type": "markdown",
      "metadata": {
        "id": "SxdLMYDvdzRW"
      },
      "source": [
        "### Load tankerkoenig data into upgraded google drive (successful)"
      ]
    },
    {
      "cell_type": "markdown",
      "metadata": {
        "id": "3VjXRkHufvwn"
      },
      "source": [
        "**Since the file to be downloaded (45GB+) is larger than the available free 15GB, it is necessary to upgrade the account to 100GB. This is the only way to download and use the necessary files from Tankerkoenig without having to delete them due to space limitations**"
      ]
    },
    {
      "cell_type": "markdown",
      "metadata": {
        "id": "jw7ThcyGdzRW"
      },
      "source": [
        "The following description is based on this source: https://medium.com/@ashwindesilva/how-to-use-google-colaboratory-to-clone-a-github-repository-e07cf8d3d22b"
      ]
    },
    {
      "cell_type": "markdown",
      "metadata": {
        "id": "f6tV9jZLdzRW"
      },
      "source": [
        "Since we plan to store our project realted files in the project_folder, we have to mount our google drive in to this runtime. In this way, we have access to the required data from any device as it is stored decentral within the googe cloud. In order to do that, we ran the following cell: [Source](https://medium.com/@ashwindesilva/how-to-use-google-colaboratory-to-clone-a-github-repository-e07cf8d3d22b)"
      ]
    },
    {
      "cell_type": "code",
      "metadata": {
        "id": "0px0g-6UdzRX",
        "colab": {
          "base_uri": "https://localhost:8080/"
        },
        "outputId": "8da96d6b-8551-4e88-d744-94eb63e2adb2"
      },
      "source": [
        "from google.colab import drive\n",
        "drive.mount(\"/content/gdrive\")"
      ],
      "execution_count": null,
      "outputs": [
        {
          "output_type": "stream",
          "text": [
            "Mounted at /content/gdrive\n"
          ],
          "name": "stdout"
        }
      ]
    },
    {
      "cell_type": "markdown",
      "metadata": {
        "id": "8i0TPzjPdzRX"
      },
      "source": [
        "After creation of the project_folder, we changed to this directory with the following code:"
      ]
    },
    {
      "cell_type": "code",
      "metadata": {
        "id": "gf63m2ePdzRX",
        "colab": {
          "base_uri": "https://localhost:8080/"
        },
        "outputId": "6f9d4a75-558e-47fd-8c7e-373199aed278"
      },
      "source": [
        "%cd gdrive/MyDrive"
      ],
      "execution_count": null,
      "outputs": [
        {
          "output_type": "stream",
          "text": [
            "[Errno 2] No such file or directory: 'gdrive/MyDrive'\n",
            "/content/gdrive/MyDrive/project_folder/tankerkoenig-data\n"
          ],
          "name": "stdout"
        }
      ]
    },
    {
      "cell_type": "markdown",
      "metadata": {
        "id": "_zeqaTsidzRX"
      },
      "source": [
        "To create the appropriate project folder, we ran the following cell:"
      ]
    },
    {
      "cell_type": "code",
      "metadata": {
        "id": "dgoQHgWudzRX"
      },
      "source": [
        "%mkdir project_folder"
      ],
      "execution_count": null,
      "outputs": []
    },
    {
      "cell_type": "markdown",
      "metadata": {
        "id": "qgHQckTLdzRY"
      },
      "source": [
        "To change the current path to our project folder, we ran the follwing cell:"
      ]
    },
    {
      "cell_type": "code",
      "metadata": {
        "id": "GdXxePi4dzRY",
        "colab": {
          "base_uri": "https://localhost:8080/"
        },
        "outputId": "f15f8bff-9735-4bcc-ac36-3ea2dda36ef7"
      },
      "source": [
        "%cd project_folder"
      ],
      "execution_count": null,
      "outputs": [
        {
          "output_type": "stream",
          "text": [
            "/content/gdrive/MyDrive/project_folder\n"
          ],
          "name": "stdout"
        }
      ]
    },
    {
      "cell_type": "markdown",
      "metadata": {
        "id": "rOoZ8BEsdzRY"
      },
      "source": [
        "In order to being able to load such a large amount of data (20 GB+), it is necessary to increase the buffer-size to 530.288.000.000 Bytes and install required libraries (in case it is not already installed). Therefore we ran the following cell: [Source](https://stackoverflow.com/questions/46232906/git-clone-error-rpc-failed-curl-56-openssl-ssl-read-ssl-error-syscall-errno)"
      ]
    },
    {
      "cell_type": "code",
      "metadata": {
        "id": "4DUP5BEAdzRY"
      },
      "source": [
        "!git config --global http.postBuffer 530288000000\n",
        "!apt install gnutls-bin\n",
        "!sudo apt install openssl"
      ],
      "execution_count": null,
      "outputs": []
    },
    {
      "cell_type": "markdown",
      "metadata": {
        "id": "XMNfiTLWdzRY"
      },
      "source": [
        "Now that we are in the correct folder for our data, we need to clone the git repository of tankerkoenig. The advantage of this is, that we can pull every day to continuously receive up-to-date data.\n",
        " We did this by running the following cell:"
      ]
    },
    {
      "cell_type": "code",
      "metadata": {
        "id": "AzFVdoOvdzRY"
      },
      "source": [
        "!git clone http://tankerkoenig@dev.azure.com/tankerkoenig/tankerkoenig-data/_git/tankerkoenig-data"
      ],
      "execution_count": null,
      "outputs": []
    },
    {
      "cell_type": "markdown",
      "metadata": {
        "id": "CuB2YCU5dzRZ"
      },
      "source": [
        "Now we want to update the data set continuously by pulling from the tankerkoenig repository. Therefore, we firstly need to change the directory to /tankerkoenig-data, as this is the location of the hidden git file. (%cd tankerkoenig-data). After this we simply run the following cell for pulling updates on the tankerkoenig data set:"
      ]
    },
    {
      "cell_type": "code",
      "metadata": {
        "id": "Ae0HH1d4aNb7"
      },
      "source": [
        "%cd tankerkoenig-data/"
      ],
      "execution_count": null,
      "outputs": []
    },
    {
      "cell_type": "code",
      "metadata": {
        "id": "9eT6Nj0gdzRZ"
      },
      "source": [
        "!git pull"
      ],
      "execution_count": null,
      "outputs": []
    },
    {
      "cell_type": "code",
      "metadata": {
        "id": "a098Tw3QvY6s"
      },
      "source": [
        ""
      ],
      "execution_count": null,
      "outputs": []
    },
    {
      "cell_type": "markdown",
      "metadata": {
        "id": "3mudqhO2mSMh"
      },
      "source": [
        "## Download of weather data"
      ]
    },
    {
      "cell_type": "markdown",
      "metadata": {
        "id": "iG8onI3ylAoz"
      },
      "source": [
        "In this sector, weather data will be imported in addition to Tankerkoenig data. The weather data was previously provided on the GitHub repository. The weather data will be analyzed in the course of this work with reference to the Tankerkoenig data. The analysis is intended to identify correlations between fuel prices and the weather data."
      ]
    },
    {
      "cell_type": "markdown",
      "metadata": {
        "id": "vhZ6bzlqtX6i"
      },
      "source": [
        "### Import weather data from a GitHub-Repository\n",
        "\n",
        "Since loading files from a private GitHub repository is very complicated, a public repository was created for this purpose, which contains more data for the analyses. Thus, the required data can be loaded without any problems."
      ]
    },
    {
      "cell_type": "markdown",
      "metadata": {
        "id": "YPmvN_ogtyrS"
      },
      "source": [
        "The prior mounting of the private gdrive is a prerequisite here:"
      ]
    },
    {
      "cell_type": "code",
      "metadata": {
        "id": "5nyQy5pst1Qw"
      },
      "source": [
        "from google.colab import drive\n",
        "drive.mount(\"/content/gdrive\")"
      ],
      "execution_count": null,
      "outputs": []
    },
    {
      "cell_type": "markdown",
      "metadata": {
        "id": "eVKcV7Wqt6SL"
      },
      "source": [
        "The following cell imports the weater data of germany from e.g 2020 from our  (second) github repository and saves it into the project folder.\n",
        "\n",
        "\n"
      ]
    },
    {
      "cell_type": "code",
      "metadata": {
        "id": "J4r4vcAGuJx6"
      },
      "source": [
        "import os\n",
        "os.chdir('/content/gdrive/MyDrive/project_folder/weather-data') #change current working directory with given path\n",
        "\n",
        "!wget 'https://raw.githubusercontent.com/AtillaOezyurt/BigDataAnalytics_DataDepot/main/additionalSources/Weather_Data/2020/Year/2020.csv' # downloads the csv file"
      ],
      "execution_count": null,
      "outputs": []
    },
    {
      "cell_type": "markdown",
      "metadata": {
        "id": "ZpWJvi3wtnvB"
      },
      "source": [
        "### Show previously imported weather data"
      ]
    },
    {
      "cell_type": "markdown",
      "metadata": {
        "id": "GkduRzcEknHA"
      },
      "source": [
        "The following cell imports the weater data of germany from e.g 2020 from our project folder:"
      ]
    },
    {
      "cell_type": "code",
      "metadata": {
        "id": "plV71Y6ClFQd"
      },
      "source": [
        "import pandas as pd\n",
        "weaterData = pd.read_csv('/content/gdrive/MyDrive/project_folder/weather-data/2020.csv', error_bad_lines=False)\n",
        "weaterData"
      ],
      "execution_count": null,
      "outputs": []
    },
    {
      "cell_type": "markdown",
      "metadata": {
        "id": "F0DeLTbEvxfG"
      },
      "source": [
        "## Download of holiday data"
      ]
    },
    {
      "cell_type": "markdown",
      "metadata": {
        "id": "XbTOGUcW-Vl7"
      },
      "source": [
        "### Import holiday data from a GitHub-Repository"
      ]
    },
    {
      "cell_type": "markdown",
      "metadata": {
        "id": "HxXIzwBusuxl"
      },
      "source": [
        "The following cell imports data about vacations and public holidays of germany from 2019 to 2020 from our (second) github repository and saves it into the project folder.\n"
      ]
    },
    {
      "cell_type": "code",
      "metadata": {
        "id": "1waC8SQ6sub-"
      },
      "source": [
        "import os\n",
        "os.chdir('/content/gdrive/MyDrive/project_folder/vacations-data') #change current working directory with given path\n",
        "\n",
        "!wget 'https://raw.githubusercontent.com/AtillaOezyurt/BigDataAnalytics_DataDepot/main/additionalSources/vacations-data/holidays.csv' # downloads the csv file"
      ],
      "execution_count": null,
      "outputs": []
    },
    {
      "cell_type": "markdown",
      "metadata": {
        "id": "vDaYNx0_thln"
      },
      "source": [
        "### Show previously imported vacation data"
      ]
    },
    {
      "cell_type": "code",
      "metadata": {
        "id": "Fla9WMGTtltg"
      },
      "source": [
        "import pandas as pd\n",
        "vacationsData = pd.read_csv('/content/gdrive/MyDrive/project_folder/vacations-data/holidays.csv', error_bad_lines=False)\n",
        "vacationsData"
      ],
      "execution_count": null,
      "outputs": []
    },
    {
      "cell_type": "markdown",
      "metadata": {
        "id": "Y77FT-Be-eu2"
      },
      "source": [
        "## Download of oil price data"
      ]
    },
    {
      "cell_type": "markdown",
      "metadata": {
        "id": "lgBxHf_L-eu3"
      },
      "source": [
        "The following cells imports data about historical oilprices and exhange rates from 2014 to 2021 from our (second) github repository and saves it into the project folder.\n"
      ]
    },
    {
      "cell_type": "markdown",
      "metadata": {
        "id": "F6Quv217_ExC"
      },
      "source": [
        "#### Import oil price data from a GitHub-Repository"
      ]
    },
    {
      "cell_type": "code",
      "metadata": {
        "id": "mvuyiLPS-eu9"
      },
      "source": [
        "import os\n",
        "os.chdir('/content/gdrive/MyDrive/project_folder/oilprice-data') #change current working directory with given path\n",
        "\n",
        "!wget 'https://raw.githubusercontent.com/AtillaOezyurt/BigDataAnalytics_DataDepot/main/additionalSources/oilprice-data/Oilprice_BrentCrude.csv' # downloads the csv file"
      ],
      "execution_count": null,
      "outputs": []
    },
    {
      "cell_type": "markdown",
      "metadata": {
        "id": "hE0ueVXqwltL"
      },
      "source": [
        "### Show previously imported oil price data"
      ]
    },
    {
      "cell_type": "code",
      "metadata": {
        "id": "itucFrzt-eu-"
      },
      "source": [
        "import pandas as pd\n",
        "oilpriceData = pd.read_csv('/content/gdrive/MyDrive/project_folder/oilprice-data/Oilprice_BrentCrude.csv', delimiter=\";\", error_bad_lines=False)\n",
        "oilpriceData"
      ],
      "execution_count": null,
      "outputs": []
    },
    {
      "cell_type": "markdown",
      "metadata": {
        "id": "Q0maIE4sw4cb"
      },
      "source": [
        "## Download of exchange rates data"
      ]
    },
    {
      "cell_type": "markdown",
      "metadata": {
        "id": "V_wv_yQ__MGN"
      },
      "source": [
        "#### Import exchange rates data from a GitHub-Repository\n"
      ]
    },
    {
      "cell_type": "code",
      "metadata": {
        "id": "UFGGKTvzBJ6-"
      },
      "source": [
        "import os\n",
        "os.chdir('/content/gdrive/MyDrive/project_folder/exchangeRate-data') #change current working directory with given path\n",
        "\n",
        "!wget 'https://raw.githubusercontent.com/AtillaOezyurt/BigDataAnalytics_DataDepot/main/additionalSources/exchangeRate-data/Exchange_US_EU.csv' # downloads the csv file"
      ],
      "execution_count": null,
      "outputs": []
    },
    {
      "cell_type": "markdown",
      "metadata": {
        "id": "rXkrubsHwtHW"
      },
      "source": [
        "#### Show previously imported exchange rates data"
      ]
    },
    {
      "cell_type": "code",
      "metadata": {
        "id": "ZYWUMKiSBK_t"
      },
      "source": [
        "import pandas as pd\n",
        "exchangeRates = pd.read_csv('/content/gdrive/MyDrive/project_folder/exchangeRate-data/Exchange_US_EU.csv', delimiter=\";\", error_bad_lines=False)\n",
        "exchangeRates"
      ],
      "execution_count": null,
      "outputs": []
    },
    {
      "cell_type": "markdown",
      "metadata": {
        "id": "dTxbEncs7Acs"
      },
      "source": [
        "# Exploration of fuel price data"
      ]
    },
    {
      "cell_type": "markdown",
      "metadata": {
        "id": "_rDoM0Pw7aPJ"
      },
      "source": [
        "In this section, the fuel price data downloaded and prepared in the previous chapter will be explored as an example. Here, the knowledge transferred from the tutorial sessions of the lecture will be applied on this data set."
      ]
    },
    {
      "cell_type": "markdown",
      "metadata": {
        "id": "sF95-P0H99oP"
      },
      "source": [
        "For the following section it is necessary to change the current directory to the *tankerkoenig* folder. If not already done, the working directory can be reached with the following cell:"
      ]
    },
    {
      "cell_type": "code",
      "metadata": {
        "id": "CXbeGvNz87Mu"
      },
      "source": [
        "%pwd  #show current working directory\n",
        "\n",
        "import os\n",
        "os.chdir('/content/gdrive/MyDrive/project_folder/tankerkoenig-data') #change current working directory with given path\n",
        "\n",
        "%pwd # show new current working directory"
      ],
      "execution_count": null,
      "outputs": []
    },
    {
      "cell_type": "markdown",
      "metadata": {
        "id": "kFEZfiJ38LOA"
      },
      "source": [
        "First, we will have a short look into a raw file. For this purpose, the daily data from April 15, 2021 will be used as an example:"
      ]
    },
    {
      "cell_type": "code",
      "metadata": {
        "id": "uVw-vIE58hbQ"
      },
      "source": [
        "# print raw data from file in tankerkoenig\n",
        "!cat 'prices/2021/04/2021-04-15-prices.csv'"
      ],
      "execution_count": null,
      "outputs": []
    },
    {
      "cell_type": "markdown",
      "metadata": {
        "id": "qmCRSla5EYyc"
      },
      "source": [
        "That output does not really seem to be useful. For a better overview we will use an plugin called Panda. We use the following cell to install Panda:"
      ]
    },
    {
      "cell_type": "code",
      "metadata": {
        "id": "Jwa2sD-DFBQ_"
      },
      "source": [
        "import pandas as pd # this will allow us to use functions from the pandas library by using the 'pd' shortcut"
      ],
      "execution_count": null,
      "outputs": []
    },
    {
      "cell_type": "markdown",
      "metadata": {
        "id": "d9V51FkiFOL1"
      },
      "source": [
        "In the following cell, we will read the same data again, this time with the help of a pandas function. The result is a structured table called \"DataFrame\":"
      ]
    },
    {
      "cell_type": "code",
      "metadata": {
        "id": "xMAWQABDFYGC"
      },
      "source": [
        "prices = pd.read_csv('prices/2021/04/2021-04-15-prices.csv')\n",
        "prices"
      ],
      "execution_count": null,
      "outputs": []
    },
    {
      "cell_type": "markdown",
      "metadata": {
        "id": "tfmIOtO6dhI7"
      },
      "source": [
        "Now that we have stored the whole DataFrame into our variable \"prices\", we can start to explore the data within 2021-04-15-prices.csv:"
      ]
    },
    {
      "cell_type": "markdown",
      "metadata": {
        "id": "51jepPXAeCQB"
      },
      "source": [
        "If we are only interested into diesel prices as we still believe in the efficiency of that fuel, we can display this by running:"
      ]
    },
    {
      "cell_type": "code",
      "metadata": {
        "id": "FFk5Nrvhdwom"
      },
      "source": [
        "prices.diesel #Lists all diesel prices in the second column of the DataFrame"
      ],
      "execution_count": null,
      "outputs": []
    },
    {
      "cell_type": "markdown",
      "metadata": {
        "id": "NhssdAGCeQnU"
      },
      "source": [
        "In case we are interested in e5 and e10, we can display both, using:"
      ]
    },
    {
      "cell_type": "code",
      "metadata": {
        "id": "riaSoEiMec01"
      },
      "source": [
        "prices[['e5','e10']] #Lists all e5 and e10 prices in column 2 and 3 within the DataFrame"
      ],
      "execution_count": null,
      "outputs": []
    },
    {
      "cell_type": "markdown",
      "metadata": {
        "id": "DzErekZ_fJiW"
      },
      "source": [
        "If we want to go one step further and want to know, at about what daytime, diesel was cheaper than 1.16€/liter, we could run the following cell:"
      ]
    },
    {
      "cell_type": "code",
      "metadata": {
        "id": "8SDjYIfKb58N"
      },
      "source": [
        "prices[['date','diesel']].loc[prices.diesel<1.16] #Lists the ID, date and diesel price in case the diesel price is lower than 1.16€/Liter"
      ],
      "execution_count": null,
      "outputs": []
    },
    {
      "cell_type": "markdown",
      "metadata": {
        "id": "DUNJnghHfheg"
      },
      "source": [
        "Sadly, there are still many 0.00€ values for Diesel.*(Note: There are no null-values for diesel prices but just 0.00€ values. We found this out by using the .isna()-function combined with .loc. As the results were exclusively 'false', we needed to find a different solution to clear the 0.00 values).* As we assume that Diesel is not available for free in these fuel stations, we first need to sort out the 0.00 Values in order to find out what was the best daytime to buy cheapest Diesel on April 15th:"
      ]
    },
    {
      "cell_type": "code",
      "metadata": {
        "id": "vnlYY7s-f4jn"
      },
      "source": [
        "prices = prices.loc[prices.diesel != 0] #Initializes the varialbe \"prices\" newly by excluding diesel prices that equal 0.00\n",
        "prices[['date','diesel']].loc[prices.diesel<1.16] ##Lists the ID, date and diesel price in case the diesel price is lower than 1.16€/Liter (without 0.00€ values)"
      ],
      "execution_count": null,
      "outputs": []
    },
    {
      "cell_type": "markdown",
      "metadata": {
        "id": "Egn37OL1i2wQ"
      },
      "source": [
        "Even though we found out, that on April 15th, Diesel was the cheapest between 9:22 am and 12:46 pm, this is neither representative nor helpful. Therefore, in the following section we want to visualize the fuel prices from April 15th:"
      ]
    },
    {
      "cell_type": "markdown",
      "metadata": {
        "id": "idGh4vhRqckp"
      },
      "source": [
        "# Preparation of fuel price data with the prepare_prices() function"
      ]
    },
    {
      "cell_type": "markdown",
      "metadata": {
        "id": "KzXj9onto6Vh"
      },
      "source": [
        "To start with preparing the data from April 15th, we firstly need to initialize the \"prices\" variable with the initial data from the 2021-04-15-prices.csv file:"
      ]
    },
    {
      "cell_type": "code",
      "metadata": {
        "id": "65Mfw0wwogw1"
      },
      "source": [
        "import pandas as pd\n",
        "prices = pd.read_csv('/content/gdrive/MyDrive/project_folder/tankerkoenig-data/prices/2021/04/2021-04-15-prices.csv')"
      ],
      "execution_count": null,
      "outputs": []
    },
    {
      "cell_type": "markdown",
      "metadata": {
        "id": "vlP6MBKrpO4n"
      },
      "source": [
        "A very interesting function is the describe() function. We will apply this to the whole data set and analyze the result:"
      ]
    },
    {
      "cell_type": "code",
      "metadata": {
        "id": "HUz-hUOGpxLb"
      },
      "source": [
        "prices.describe() #Calculates statistical properties for each column. Only numerical attributes are relevant for this function."
      ],
      "execution_count": null,
      "outputs": []
    },
    {
      "cell_type": "markdown",
      "metadata": {
        "id": "j2nRUZKrqF_c"
      },
      "source": [
        "The describe funtion shows statistical properties like the mean price of diesel, e5 and e10 and their minimum and maximum value from April 15th. As the minimum value is extraordinarily interesting for us, we would like to clear the 0.00€ values again:"
      ]
    },
    {
      "cell_type": "code",
      "metadata": {
        "id": "oRFdcK9_qXtN"
      },
      "source": [
        "prices = prices.loc[prices.diesel > 0] #Removes all 0.00€ and negative values for diesel\n",
        "prices = prices.loc[prices.e5 > 0] #Removes all 0.00€ and negative values for e5\n",
        "prices = prices.loc[prices.e10 > 0] #Removes all 0.00€ and negative values for e10"
      ],
      "execution_count": null,
      "outputs": []
    },
    {
      "cell_type": "markdown",
      "metadata": {
        "id": "VYyAFvXb1bmX"
      },
      "source": [
        "In order to play around with the data set, we defined a prepare_prices function, that drops the colums \"dieselchange\", \"e5change\" and \"e10change\" and then removes the 0.00€ or negative prices from the data frame received as the parameter \"prices\":"
      ]
    },
    {
      "cell_type": "code",
      "metadata": {
        "id": "1O8Hyyhw1xMn"
      },
      "source": [
        "def prepare_prices(prices): \n",
        "  prices = prices.drop(['dieselchange','e5change','e10change'], axis=1) #Removes the colums \"dieselchange\", \"e5change\" and \"e10change\"\n",
        "  prices = prices.loc[prices.diesel > 0] #Removes all 0.00€ and negative values for diesel\n",
        "  prices = prices.loc[prices.e5 > 0] #Removes all 0.00€ and negative values for e5\n",
        "  prices = prices.loc[prices.e10 > 0] #Removes all 0.00€ and negative values for e10\n",
        "  return prices"
      ],
      "execution_count": null,
      "outputs": []
    },
    {
      "cell_type": "markdown",
      "metadata": {
        "id": "ybL-7pAhq_04"
      },
      "source": [
        "Probably there is a more elegant way to achieve this goal, but for now the previous cell worked out well and cleared all 0.00 or negative values for diesel, e5 and e10 prices. Now we can run the describe() function again and also get information about the cheapest fuel prices of April 15th."
      ]
    },
    {
      "cell_type": "code",
      "metadata": {
        "id": "ky83qEOFxZwo"
      },
      "source": [
        "import pandas as pd\n",
        "prices = pd.read_csv('prices/2021/04/2021-04-15-prices.csv')\n",
        "prices = prepare_prices(prices)\n",
        "prices.describe() #Calculates statistical properties for each column. Only numerical attributes are relevant for this function."
      ],
      "execution_count": null,
      "outputs": []
    },
    {
      "cell_type": "markdown",
      "metadata": {
        "id": "QKaJkPH8jWJj"
      },
      "source": [
        "# Visualization of fuel price data"
      ]
    },
    {
      "cell_type": "markdown",
      "metadata": {
        "id": "kYmM3p1SnuDC"
      },
      "source": [
        "In this section, we will visualize the tankerkoenig data exemplified by the data from April 15th again. The knowledge from tutorial session 2 will be applied on this data set. In case we used further sources, we marked this respectively in the markdown cells."
      ]
    },
    {
      "cell_type": "markdown",
      "metadata": {
        "id": "w-ymg1M8sPX3"
      },
      "source": [
        "## Plotting data"
      ]
    },
    {
      "cell_type": "markdown",
      "metadata": {
        "id": "3e4S3rqG4gUf"
      },
      "source": [
        "### Basic plots"
      ]
    },
    {
      "cell_type": "markdown",
      "metadata": {
        "id": "EI-u3OWQsbsJ"
      },
      "source": [
        "To start off with the actual visualization, we use the plot() function. This allows us to get a feeling for the distribution of our fuel prices:"
      ]
    },
    {
      "cell_type": "code",
      "metadata": {
        "id": "S55HGqrnryUS"
      },
      "source": [
        "_ = prices.plot(kind = 'hist', y = 'diesel') #Plots the price distribution of diesel"
      ],
      "execution_count": null,
      "outputs": []
    },
    {
      "cell_type": "code",
      "metadata": {
        "id": "yx5jljqes7Ru"
      },
      "source": [
        "_ = prices.plot(kind = 'hist', y = 'e5') #Plots the price distribution of e5"
      ],
      "execution_count": null,
      "outputs": []
    },
    {
      "cell_type": "code",
      "metadata": {
        "id": "_y1G_osLs_97"
      },
      "source": [
        "_ = prices.plot(kind = 'hist', y = 'e10') #Plots the price distribution of e10"
      ],
      "execution_count": null,
      "outputs": []
    },
    {
      "cell_type": "markdown",
      "metadata": {
        "id": "_HlzPsXDtEVi"
      },
      "source": [
        "After plotting all three fuels, we can see a slight difference in the price distribution. All three fuels tend to have their peak between the 0.4 and 0.5 percentile."
      ]
    },
    {
      "cell_type": "markdown",
      "metadata": {
        "id": "QjAYjdyJuBbh"
      },
      "source": [
        "The describe() function and basic plots still deliver more information than the read_csv function of the section before. But what's even more interesting is relationships between the attributes. In order to visualize relationships, we first need to import the seaborn library in order to use the required functions: "
      ]
    },
    {
      "cell_type": "code",
      "metadata": {
        "id": "vBEXGRCRuerv"
      },
      "source": [
        "import seaborn as sns"
      ],
      "execution_count": null,
      "outputs": []
    },
    {
      "cell_type": "markdown",
      "metadata": {
        "id": "ztEG6nFlui5M"
      },
      "source": [
        "To visualize relationships between attributes we can use seabrorn's relplot() function. As an example, we can visualize the relationship between diesel prices and daytime in order to get a feeling which daytime was rather cheap or expensive to refuel the car:"
      ]
    },
    {
      "cell_type": "code",
      "metadata": {
        "id": "ceocpK3eu2ff"
      },
      "source": [
        "sns.relplot(x='diesel', y='date', data=prices) #plots the relationship between diesel prices and daytime"
      ],
      "execution_count": null,
      "outputs": []
    },
    {
      "cell_type": "markdown",
      "metadata": {
        "id": "vlHt3Z8lv5sU"
      },
      "source": [
        "As the file contains too much data, it is not possible to draw conclusions of the visualized relationships. We can try this again by pre-selecting a random sample of the data set:"
      ]
    },
    {
      "cell_type": "code",
      "metadata": {
        "id": "h-IxB1QiwH-m"
      },
      "source": [
        "import pandas as pd\n",
        "import seaborn as sns\n",
        "prices = pd.read_csv('/content/gdrive/MyDrive/project_folder/tankerkoenig-data/prices/2021/04/2021-04-15-prices.csv')\n",
        "prices = prepare_prices(prices)\n",
        "prices = prices.sample(30, replace=True, random_state=1) #Creates a small random selection of data that can be used to visualize relationships more comprehensively\n",
        "sns.relplot(x='diesel', y='date', data=prices) #plots the relationship between diesel prices and daytime"
      ],
      "execution_count": null,
      "outputs": []
    },
    {
      "cell_type": "markdown",
      "metadata": {
        "id": "hO4gjiHsx5Dl"
      },
      "source": [
        "Even after several times of running this cell by generating a new random set of values, there is no correlation visible. We will come back to the correlation-check later with the corr() function."
      ]
    },
    {
      "cell_type": "markdown",
      "metadata": {
        "id": "QkSCcGBp4kSb"
      },
      "source": [
        "### Time series plots"
      ]
    },
    {
      "cell_type": "markdown",
      "metadata": {
        "id": "UyfYyUNa4VqN"
      },
      "source": [
        "A better way to plot the relationship between attributes over time is the line plot. In the following cell we visualize the price development of all three fuels within one day. This further allows to get a feeling for correlations between the price developments of the different fuels:"
      ]
    },
    {
      "cell_type": "code",
      "metadata": {
        "id": "tOBQpgAkyiVw"
      },
      "source": [
        "import pandas as pd\n",
        "import seaborn as sns\n",
        "prices = pd.read_csv('/content/gdrive/MyDrive/project_folder/tankerkoenig-data/prices/2021/04/2021-04-15-prices.csv')\n",
        "prices = prepare_prices(prices)\n",
        "prices = prices.sample(30, replace=True, random_state=1) #Creates a small random selection of data that can be used to visualize relationships more comprehensively\n",
        "prices.plot(kind='line', x='date', y=['e5', 'e10', 'diesel']) #plots the relationship between fuel price development and daytime"
      ],
      "execution_count": null,
      "outputs": []
    },
    {
      "cell_type": "markdown",
      "metadata": {
        "id": "670nTlQ-52jT"
      },
      "source": [
        "Although, this still doesen't give clear information about correlations. Especially as the sample() function selects a random set of values that is not totally representative for the whole data set."
      ]
    },
    {
      "cell_type": "markdown",
      "metadata": {
        "id": "gemp86at6m0A"
      },
      "source": [
        "# Merging data frames"
      ]
    },
    {
      "cell_type": "markdown",
      "metadata": {
        "id": "z4xler85PHvf"
      },
      "source": [
        "## Aggregate fuel price data into data frames"
      ]
    },
    {
      "cell_type": "markdown",
      "metadata": {
        "id": "JkFOsXmyaUl-"
      },
      "source": [
        "In the previous sectors, only a single data set was used. However, in order to be able to make more precise statements or predictions, several data sets should be used and analyzed over a certain time horizon. In this sector it is shown how several data sets (CSV files) can be loaded and summarized at the same time."
      ]
    },
    {
      "cell_type": "markdown",
      "metadata": {
        "id": "mwxHpLOMt4hu"
      },
      "source": [
        "For the further cells, first the following cells have to be executed upfront:"
      ]
    },
    {
      "cell_type": "code",
      "metadata": {
        "id": "9OnhzhIrt0XW"
      },
      "source": [
        "def prepare_prices(prices): \n",
        "  prices = prices.drop(['dieselchange','e5change','e10change'], axis=1) #Removes the colums \"dieselchange\", \"e5change\" and \"e10change\"\n",
        "  prices = prices.loc[prices.diesel > 0] #Removes all 0.00€ and negative values for diesel\n",
        "  prices = prices.loc[prices.e5 > 0] #Removes all 0.00€ and negative values for e5\n",
        "  prices = prices.loc[prices.e10 > 0] #Removes all 0.00€ and negative values for e10\n",
        "  return prices"
      ],
      "execution_count": 18,
      "outputs": []
    },
    {
      "cell_type": "code",
      "metadata": {
        "id": "da1sYHW3uJbE"
      },
      "source": [
        "import os\n",
        "os.chdir('/content/gdrive/MyDrive/project_folder/tankerkoenig-data') #change current working directory with given path"
      ],
      "execution_count": 19,
      "outputs": []
    },
    {
      "cell_type": "markdown",
      "metadata": {
        "id": "PAdj4fDaiUbj"
      },
      "source": [
        "### Concatenate data-frames for a desired month - fixed arguments"
      ]
    },
    {
      "cell_type": "markdown",
      "metadata": {
        "id": "S-30DF1cb-_J"
      },
      "source": [
        "In the following cell, the path to be read is first initialized using variables. Subsequently the data records e.g. from June 2014 will be iterated, read and merged into one data frame. \n",
        "Since the records have been categorized by year and month, reading all records simultaneously is not possible due to different paths. By dynamically definable paths through the variables, all records can be read and merged by an automated iteration."
      ]
    },
    {
      "cell_type": "code",
      "metadata": {
        "id": "XM5I3ExwPpEm"
      },
      "source": [
        "# --- Loading a desired month-folder\n",
        "\n",
        "import os\n",
        "import glob\n",
        "import pandas as pd\n",
        "\n",
        "\n",
        "dir_path = '/content/gdrive/MyDrive/project_folder/tankerkoenig-data' #project directory path (short: dir_path)\n",
        "information_type = 'prices' #this variable can be initialized with 'stations' or 'prices'\n",
        "prices_year = '2014' # year of prices or stations\n",
        "prices_month = '06'  # month of prices or stations\n",
        "\n",
        "joined_path = os.path.join(dir_path, information_type, prices_year, prices_month) # dynamically creates a path to read the included CSV-files, can be used for automatic iterations in the future for prices and stations\n",
        "joined_path\n",
        "\n",
        "filenames = glob.glob(joined_path + \"/*.csv\")\n",
        "\n",
        "dfs = [pd.read_csv(filename) for filename in filenames]\n",
        "\n",
        "month_frame = pd.concat(dfs, ignore_index=True) #concatenate all data into one DataFrame\n",
        "month_frame = month_frame.drop([\"dieselchange\",\"e5change\",\"e10change\"],axis=1) #removes the columns \"dieselchange\",\"e5change\" and \"e10change\"\n",
        "month_frame"
      ],
      "execution_count": null,
      "outputs": []
    },
    {
      "cell_type": "markdown",
      "metadata": {
        "id": "dVF58JKEg0SP"
      },
      "source": [
        "Based on this, we built a function \"concatenateMonth(month,year)\" in the following section in order to dynamically concatenate DataFrames."
      ]
    },
    {
      "cell_type": "markdown",
      "metadata": {
        "id": "5Pi42igYipjt"
      },
      "source": [
        "### Concatenate data-frames with for a desired month with the concatenateMonth() function - dynamic arguments"
      ]
    },
    {
      "cell_type": "code",
      "metadata": {
        "id": "QyopEsd5jJNW"
      },
      "source": [
        "# --- Loading a desired month-folder and save it into one DataFrame \"month_frame\" ---\n",
        "\n",
        "import os\n",
        "import glob\n",
        "import pandas as pd\n",
        "\n",
        "def concatenateMonth(month, year):\n",
        "  dir_path = '/content/gdrive/MyDrive/project_folder/tankerkoenig-data' #project directory path (short: dir_path)\n",
        "  information_type = 'prices' #this variable can be initialized with 'stations' or 'prices'\n",
        "  prices_year = year\n",
        "  prices_month = month\n",
        "\n",
        "  joined_path = os.path.join(dir_path, information_type, prices_year, prices_month) # dynamically creates a path to read the included CSV-files, can be used for automatic iterations in the future for prices and stations\n",
        "  joined_path\n",
        "\n",
        "  filenames = glob.glob(joined_path + \"/*.csv\")\n",
        "\n",
        "  dfs = [pd.read_csv(filename) for filename in filenames]\n",
        "\n",
        "  month_frame = pd.concat(dfs, ignore_index=True) #concatenate all data into one DataFrame\n",
        "  return month_frame"
      ],
      "execution_count": 22,
      "outputs": []
    },
    {
      "cell_type": "markdown",
      "metadata": {
        "id": "gINcXWBFbF9I"
      },
      "source": [
        "In order to summarize and analyze a data set for a whole year, it is necessary to iterate every available month."
      ]
    },
    {
      "cell_type": "markdown",
      "metadata": {
        "id": "isi9I1TdKtvR"
      },
      "source": [
        "The following cell first creates an array for the 12 existing months. So that the function from the previous cell (def concatenateMonth) can iterate over the existing months, the next month from the ArrayList (month) is passed as an argument each time. The For-loop is terminated with the last month from the ArrayList (month).## \n",
        "The return value from the function is a DataFrame of a single month. The current DataFrame is extended each time by the returned DataFrame of the next month.\n",
        "The goal is to create a DataFrame over a whole, specific year."
      ]
    },
    {
      "cell_type": "markdown",
      "metadata": {
        "id": "rHDx4ikexvh7"
      },
      "source": [
        "### Concatenate data-frames for a desired year"
      ]
    },
    {
      "cell_type": "markdown",
      "metadata": {
        "id": "ymfAxdPPcDyW"
      },
      "source": [
        "The following cell first creates an array for the 12 existing months. So that the function from the previous cell (def concatenateMonth) can iterate over the existing months, the next month from the ArrayList (month) is passed as an argument each time. The For-loop is terminated with the last month from the ArrayList (month).## The return value from the function is a DataFrame of a single month. The current DataFrame is extended each time by the returned DataFrame of the next month. The goal is to create a DataFrame over a whole, specific year."
      ]
    },
    {
      "cell_type": "code",
      "metadata": {
        "id": "izrcEUwBj-o7"
      },
      "source": [
        "months = [\"06\",\"07\",\"08\",\"09\",\"10\",\"11\",\"11\",\"12\"]\n",
        "year = \"2014\"\n",
        "\n",
        "frames = []\n",
        "\n",
        "for month in months:\n",
        "    print(\"Read and processing month:\", month)\n",
        "    monthFrame = concatenateMonth(month, year)\n",
        "    print(\"Save result to frame-list...\")\n",
        "    frames.append(monthFrame)\n",
        "\n",
        "yearFrames = pd.concat(frames)"
      ],
      "execution_count": null,
      "outputs": []
    },
    {
      "cell_type": "markdown",
      "metadata": {
        "id": "kn1ezIiwd4uO"
      },
      "source": [
        "### New approach with build_avg_month_frame() function for smaller DataFrame size:"
      ]
    },
    {
      "cell_type": "markdown",
      "metadata": {
        "id": "a5UX11pa05sa"
      },
      "source": [
        "#### Adjusting the column 'date' for further mergings"
      ]
    },
    {
      "cell_type": "markdown",
      "metadata": {
        "id": "iVD23whE37UK"
      },
      "source": [
        "In order to merge data sources, a common primary key is used for this purpose. All available data sources (fuel prices, oil prices, exchange rates, vacations and weather data) each have the column \"date\". With this column it is possible to merge different data sources. For merging different data sources via the \"date\" column, the values within the column must be in a uniform formate. \n",
        "\n",
        "While the fuel prices are available in minute and hourly form, the time data of other data sources -like the weather data- are available in days.\n",
        "For this reason, a transformation of the time data from minutes/hours to days of the fuel prices is necessary."
      ]
    },
    {
      "cell_type": "markdown",
      "metadata": {
        "id": "OoEtOrLY5Vwt"
      },
      "source": [
        "The aim of the transformation is to determine the daily average fuel prices based on the minute and hourly data."
      ]
    },
    {
      "cell_type": "markdown",
      "metadata": {
        "id": "W9exHXo64Jj5"
      },
      "source": [
        "Example:\n",
        "\n",
        "**from**\n",
        "- 2021-04-15 00:01:08+02  Diesel: 1.259\n",
        "- 2021-04-15 06:35:10+02  Diesel: 1.289\n",
        "- 2021-04-15 07:31:07+02  Diesel: 1.349\n",
        "- 2021-04-15 07:55:05+02  Diesel: 1.269\n",
        "- ... \n",
        "\n",
        "**to**\n",
        "\n",
        "- 2021-04-15 - Diesel: 1.291\n",
        "- 2021-04-16 - Diesel: 1.287\n",
        "- 2021-04-17 - Diesel: 1.284"
      ]
    },
    {
      "cell_type": "markdown",
      "metadata": {
        "id": "qVRHfF6ii3vG"
      },
      "source": [
        "First, we have to filter out the timestamp from the date:"
      ]
    },
    {
      "cell_type": "code",
      "metadata": {
        "id": "3dFxqGvvhWd-"
      },
      "source": [
        "import pandas as pd\n",
        "month_frame = prepare_prices(concatenateMonth('05','2020')) #loads data from 05/2020 into \"month_frame\" and prepares the DataFrame with the \"prepare_prices()\"-function\n",
        "month_frame['date'] = month_frame['date'].map(lambda x: str(x)[:-12])  # cuts of the timestamp (last 12 characters), does not affect the datatype of the date\n",
        "month_frame[\"date\"] = pd.to_datetime(month_frame[\"date\"]).dt.strftime('%Y/%m/%d') # change format of date from YYYY-MM-DD to YYYY/MM/DD"
      ],
      "execution_count": null,
      "outputs": []
    },
    {
      "cell_type": "code",
      "metadata": {
        "id": "Ikjdak83pma5"
      },
      "source": [
        "month_frame"
      ],
      "execution_count": null,
      "outputs": []
    },
    {
      "cell_type": "markdown",
      "metadata": {
        "id": "QSYJUIxhj-bc"
      },
      "source": [
        "Now that the date format has been adjusted, the DataFrame consists of thousands of entries for each day. Therefore, in the following function,we built a DataFrame for one month, that consists of the mean fuel prices for each day. This month_frame is then ready to be merged with a weather data DataFrame."
      ]
    },
    {
      "cell_type": "code",
      "metadata": {
        "id": "wOpX8qELvyFt"
      },
      "source": [
        "month_frame = month_frame.groupby('date').mean()  # group by date and create average prices foe diesel, e5 and e10"
      ],
      "execution_count": null,
      "outputs": []
    },
    {
      "cell_type": "code",
      "metadata": {
        "id": "2OF2m1UwlG2W"
      },
      "source": [
        "month_frame"
      ],
      "execution_count": null,
      "outputs": []
    },
    {
      "cell_type": "markdown",
      "metadata": {
        "id": "Jo5ua-Nstxv1"
      },
      "source": [
        "#### Export merged Dataframe as CSV-File"
      ]
    },
    {
      "cell_type": "markdown",
      "metadata": {
        "id": "-DZlwnKPtF8Q"
      },
      "source": [
        "The assembled DateFrame will be saved as CSV in the project folder. This saves the re-execution of numerous cells to merge the price data with the station and the following cleaning. Especially for the next chapter: \"Model Training\" the already processed and saved DataFrames can be accessed quickly for different use cases."
      ]
    },
    {
      "cell_type": "markdown",
      "metadata": {
        "id": "POfiOupbttpK"
      },
      "source": [
        "Saving the variable \"merged_DataFrame\" as CSV-File can be done as follows:"
      ]
    },
    {
      "cell_type": "code",
      "metadata": {
        "id": "CyenmMiGtcS7"
      },
      "source": [
        "month_frame.to_csv(r'/content/gdrive/MyDrive/project_folder/dataframes/fuel_price_month_frame')"
      ],
      "execution_count": null,
      "outputs": []
    },
    {
      "cell_type": "markdown",
      "metadata": {
        "id": "hOUs_OciWb2S"
      },
      "source": [
        "By combining the cells before, we created the folowing function build_avg_month_frame(month, year). The goal is to safe aggregated month frames into small CSV files within the directory /content/gdrive/MyDrive/project_folder/dataframes/. With this aproach, we will build a year DataFrame of average fuel prices."
      ]
    },
    {
      "cell_type": "code",
      "metadata": {
        "id": "Qcyazca0eB-B"
      },
      "source": [
        "import pandas as pd\n",
        "def build_avg_month_frame(month,year):\n",
        "  month_frame = prepare_prices(concatenateMonth(month,year)) #loads data from 05/2020 into \"month_frame\" and prepares the DataFrame with the \"prepare_prices()\"-function\n",
        "  month_frame['date'] = month_frame['date'].map(lambda x: str(x)[:-12])  # cuts of the timestamp (last 12 characters), does not affect the datatype of the date\n",
        "  month_frame['date'] = pd.to_datetime(month_frame['date']).dt.strftime('%Y/%m/%d') # change format of date from YYYY-MM-DD to YYYY/MM/DD\n",
        "  month_frame = month_frame.groupby('date').mean()  # group by date and create average prices foe diesel, e5 and e10\n",
        "  month_frame.to_csv(r'/content/gdrive/MyDrive/project_folder/dataframes/' + year + '/fuel_price_' + month + '_' + year + '.csv')"
      ],
      "execution_count": 25,
      "outputs": []
    },
    {
      "cell_type": "markdown",
      "metadata": {
        "id": "twP9s8LPev3F"
      },
      "source": [
        "With the following cell, we will create 12 csv files that contain average fuel prices from every month of the year 2020. These csv files will be stored within the directory /content/gdrive/MyDrive/project_folder/dataframes/."
      ]
    },
    {
      "cell_type": "code",
      "metadata": {
        "id": "CAKAGsFsewgj"
      },
      "source": [
        "#ATTENTION: This cell will run several minutes. The files are already created within the directory /content/gdrive/MyDrive/project_folder/dataframes/. Therefore, it is not necessary to run it.\n",
        "year = '2018'\n",
        "months = ['01','02','03','04','05','06','07','08','09','10','11','12']\n",
        "\n",
        "for month in months:\n",
        "  build_avg_month_frame(month,year)"
      ],
      "execution_count": 26,
      "outputs": []
    },
    {
      "cell_type": "markdown",
      "metadata": {
        "id": "QQmkQI4r6H4h"
      },
      "source": [
        "#### Create year frame based on exported csv files with average fuel prices with the function build_avg_year_frame()"
      ]
    },
    {
      "cell_type": "markdown",
      "metadata": {
        "id": "baHRm9QBe2if"
      },
      "source": [
        "Now that we have aggregated month frames of daily average fuel prices, we can easily build a year frame that contains daily average fuel prices of the whole year 2020:"
      ]
    },
    {
      "cell_type": "code",
      "metadata": {
        "id": "-_24PRxfe6sY"
      },
      "source": [
        "import glob\n",
        "def build_avg_year_frame(year):\n",
        "  dir_path = ('/content/gdrive/MyDrive/project_folder/dataframes/' + year) #project directory path (short: dir_path)\n",
        "  month_files = glob.glob(dir_path + '/*.csv', recursive = True)\n",
        "  dfs = [pd.read_csv(file_path) for file_path in month_files] #save each csv file content into \"dfs\" for all csv files contained within month_files\n",
        "  year_frame = pd.concat(dfs) #concatenate all month DataFrames into one year DataFrame\n",
        "  return year_frame\n"
      ],
      "execution_count": 23,
      "outputs": []
    },
    {
      "cell_type": "code",
      "metadata": {
        "id": "4d591ZoR7dIw"
      },
      "source": [
        "year_frame2020 = build_avg_year_frame('2020')\n",
        "year_frame2020"
      ],
      "execution_count": null,
      "outputs": []
    },
    {
      "cell_type": "markdown",
      "metadata": {
        "id": "rcMsCFLefKqw"
      },
      "source": [
        "If we now want to visualize the development of the daily average fuel prices for the year 2020, we can use the plot function of the following cell:"
      ]
    },
    {
      "cell_type": "code",
      "metadata": {
        "id": "al4mgjCgfKq3",
        "colab": {
          "base_uri": "https://localhost:8080/",
          "height": 296
        },
        "outputId": "eda1ca2a-3653-4c1d-a190-dd8509c213e8"
      },
      "source": [
        "year_frame2019.plot(kind='line', x='date', y=['e5', 'e10', 'diesel']) #plots the relationship between fuel price development and daytime"
      ],
      "execution_count": null,
      "outputs": [
        {
          "output_type": "execute_result",
          "data": {
            "text/plain": [
              "<matplotlib.axes._subplots.AxesSubplot at 0x7f13f63b3f90>"
            ]
          },
          "metadata": {
            "tags": []
          },
          "execution_count": 106
        },
        {
          "output_type": "display_data",
          "data": {
            "image/png": "[encoded data removed]",
            "text/plain": [
              "<Figure size 432x288 with 1 Axes>"
            ]
          },
          "metadata": {
            "tags": [],
            "needs_background": "light"
          }
        }
      ]
    },
    {
      "cell_type": "code",
      "metadata": {
        "colab": {
          "base_uri": "https://localhost:8080/",
          "height": 296
        },
        "id": "hYexdTfyBGtz",
        "outputId": "20090c46-0bef-40b0-b433-122525e0dc64"
      },
      "source": [
        "year_frame2020 = build_avg_year_frame('2020')\n",
        "year_frame2020.plot(kind='line', x='date', y=['e5', 'e10', 'diesel']) #plots the relationship between fuel price development and daytime"
      ],
      "execution_count": null,
      "outputs": [
        {
          "output_type": "execute_result",
          "data": {
            "text/plain": [
              "<matplotlib.axes._subplots.AxesSubplot at 0x7f1428746b90>"
            ]
          },
          "metadata": {
            "tags": []
          },
          "execution_count": 107
        },
        {
          "output_type": "display_data",
          "data": {
            "image/png": "[encoded data removed]",
            "text/plain": [
              "<Figure size 432x288 with 1 Axes>"
            ]
          },
          "metadata": {
            "tags": [],
            "needs_background": "light"
          }
        }
      ]
    },
    {
      "cell_type": "markdown",
      "metadata": {
        "id": "VK3QOo2gnwqf"
      },
      "source": [
        "## Merge DataFrames from different CSV files: fuel prices and station names"
      ]
    },
    {
      "cell_type": "markdown",
      "metadata": {
        "id": "PRLEzCZ4rWvh"
      },
      "source": [
        "The goal is to merge data from the folder \"prices\" with data from the folder \"stations\" in order to display the name of the fuel station with e.g. the cheapest prices for a given date. Therefore we run the following cell:"
      ]
    },
    {
      "cell_type": "code",
      "metadata": {
        "id": "LFgFTDQ0rw3Y"
      },
      "source": [
        "import pandas as pd\n",
        "prices = prepare_prices(pd.read_csv('/content/gdrive/MyDrive/project_folder/tankerkoenig-data/prices/2021/04/2021-04-15-prices.csv')) #loads fuel price data into the DataFrame \"prices\" and prepares the DataFrame\n",
        "prices = prices.rename(columns={'station_uuid':'uuid'}) #renames the column \"station_uuid\" into \"uuid\".\n",
        "stations = pd.read_csv('/content/gdrive/MyDrive/project_folder/tankerkoenig-data/stations/stations.csv') #loads station data into the DataFrame \"stations\".\n",
        "merged_DataFrame = pd.merge(prices, stations, on=\"uuid\") #merges the two data frames based on their common column \"uuid\" and saves the resulting DataFrame in \"merged_DataFrame\"\n",
        "merged_DataFrame = merged_DataFrame.dropna(axis=0) #drops any Null-Values out of the DataFrame"
      ],
      "execution_count": null,
      "outputs": []
    },
    {
      "cell_type": "code",
      "metadata": {
        "id": "n-myfgHn0a0b"
      },
      "source": [
        "merged_DataFrame"
      ],
      "execution_count": null,
      "outputs": []
    },
    {
      "cell_type": "markdown",
      "metadata": {
        "id": "fFAIoAZvytCD"
      },
      "source": [
        "Now that we have successfully merged the DataFrames, we can display the name of fuel station with the cheapest diesel prices for April 15th, 2021:"
      ]
    },
    {
      "cell_type": "code",
      "metadata": {
        "id": "mOJ4FHRIysjV"
      },
      "source": [
        "merged_DataFrame.sort_values(by='diesel')[['diesel','name','post_code','city']]"
      ],
      "execution_count": null,
      "outputs": []
    },
    {
      "cell_type": "markdown",
      "metadata": {
        "id": "BSkOzL6h3hGd"
      },
      "source": [
        "The same is possible for larger DataFrames like the month_frame. This allows us to find out, what was the cheapest fuel station for e.g. e5 in June, 2014:"
      ]
    },
    {
      "cell_type": "code",
      "metadata": {
        "id": "3bq9pdhf3t9A"
      },
      "source": [
        "month_frame = prepare_prices(concatenateMonth('06','2014')) #loads data from 06/2014 into \"month_frame\" and prepares the data with the \"prepare_prices()\"-function\n",
        "month_frame = month_frame.rename(columns={'station_uuid':'uuid'}) #renames the column \"station_uuid\" into \"uuid\".\n",
        "stations = pd.read_csv('/content/gdrive/MyDrive/project_folder/tankerkoenig-data/stations/stations.csv') #loads station data into the DataFrame \"stations\".\n",
        "merged_DataFrame = pd.merge(month_frame, stations, on=\"uuid\") #merges the two data frames based on their common column \"uuid\" and saves the resulting DataFrame in \"merged_DataFrame\"\n",
        "merged_DataFrame = merged_DataFrame.dropna(axis=0) #drops any Null-Values out of the DataFrame\n",
        "merged_DataFrame.sort_values(by='diesel')[['diesel','name','post_code','city']]"
      ],
      "execution_count": null,
      "outputs": []
    },
    {
      "cell_type": "markdown",
      "metadata": {
        "id": "S37_7ENM7R_N"
      },
      "source": [
        "Interpretation of the result: From the more than 1 Million results, the cheapest fuel station from June 2014 was \"Freie Tankstelle Grabinger\" in 93164 Laaber with a diesel price of 1.000€."
      ]
    },
    {
      "cell_type": "markdown",
      "metadata": {
        "id": "GNNrgN3E2oB-"
      },
      "source": [
        "## Merge DataFrames from different CSV files: fuel prices and weather data"
      ]
    },
    {
      "cell_type": "markdown",
      "metadata": {
        "id": "Kf0Y4Z9JzcM5"
      },
      "source": [
        "In order to be able to make statements about the relationships between fuel prices and the weather data, the two data frames will be linked and combined."
      ]
    },
    {
      "cell_type": "markdown",
      "metadata": {
        "id": "x5ArWLbn90yZ"
      },
      "source": [
        "### Merged DataFrame for monthly fuel prices and weather data"
      ]
    },
    {
      "cell_type": "code",
      "metadata": {
        "id": "7o0VDRLd-GLv"
      },
      "source": [
        "import pandas as pd\n",
        "weather = pd.read_csv('/content/gdrive/MyDrive/project_folder/weather-data/2020.csv')\n",
        "weather = weather.rename(columns={'Date time':'date'})\n",
        "weather[\"date\"] = pd.to_datetime(weather[\"date\"]).dt.strftime('%Y/%m/%d') # change format of date from MM-DD-YYYY to YYYY/MM/DD"
      ],
      "execution_count": null,
      "outputs": []
    },
    {
      "cell_type": "code",
      "metadata": {
        "id": "xOmM2Hju-GLv"
      },
      "source": [
        "month_frame = pd.read_csv('/content/gdrive/MyDrive/project_folder/dataframes/2020/fuel_price_05_2020.csv')"
      ],
      "execution_count": null,
      "outputs": []
    },
    {
      "cell_type": "code",
      "metadata": {
        "id": "qC-7xdoT-GLw"
      },
      "source": [
        "merged_month_DataFrame = pd.merge(month_frame, weather, on=\"date\") #merges the two data frames based on their common column \"date\" and saves the resulting DataFrame in \"merged_DataFrame\""
      ],
      "execution_count": null,
      "outputs": []
    },
    {
      "cell_type": "code",
      "metadata": {
        "id": "L14VWUjr-GLw"
      },
      "source": [
        "merged_month_DataFrame"
      ],
      "execution_count": null,
      "outputs": []
    },
    {
      "cell_type": "markdown",
      "metadata": {
        "id": "-Ire2gQf-sZF"
      },
      "source": [
        "The resulting merged_month_DataFrame now consists of daily average fuel price data and weather data for 05/2020. This DataFrame can now we used for visualization and obervation of correlations. This will be done in the following section."
      ]
    },
    {
      "cell_type": "markdown",
      "metadata": {
        "id": "F85IvQi596uP"
      },
      "source": [
        "### Merged DataFrame for yearly fuel prices and weather data"
      ]
    },
    {
      "cell_type": "code",
      "metadata": {
        "id": "SUNuXAPQz1K_"
      },
      "source": [
        "import pandas as pd\n",
        "weather = pd.read_csv('/content/gdrive/MyDrive/project_folder/weather-data/2019.csv')\n",
        "weather = weather.rename(columns={'Date time':'date'})\n",
        "weather[\"date\"] = pd.to_datetime(weather[\"date\"]).dt.strftime('%Y/%m/%d') # change format of date from MM-DD-YYYY to YYYY/MM/DD\n",
        "weather"
      ],
      "execution_count": null,
      "outputs": []
    },
    {
      "cell_type": "code",
      "metadata": {
        "id": "f5Rd_VlAX7LD"
      },
      "source": [
        "year_frame = build_avg_year_frame('2019')\n",
        "year_frame"
      ],
      "execution_count": null,
      "outputs": []
    },
    {
      "cell_type": "code",
      "metadata": {
        "id": "1V0W5YV-kqj_"
      },
      "source": [
        "merged_year_DataFrame = pd.merge(year_frame, weather, on=\"date\") #merges the two data frames based on their common column \"date\" and saves the resulting DataFrame in \"merged_DataFrame\""
      ],
      "execution_count": null,
      "outputs": []
    },
    {
      "cell_type": "code",
      "metadata": {
        "id": "KM1awl7PlSid"
      },
      "source": [
        "merged_year_DataFrame"
      ],
      "execution_count": null,
      "outputs": []
    },
    {
      "cell_type": "markdown",
      "metadata": {
        "id": "v2T-iKesmdz6"
      },
      "source": [
        "The resulting merged_year_DataFrame now consists of daily average fuel price data and weather data for the whole year 2020. This DataFrame can now we used for visualization and obervation of correlations. This will be done in the following section."
      ]
    },
    {
      "cell_type": "markdown",
      "metadata": {
        "id": "FtTH-BmNrBJz"
      },
      "source": [
        "## Merge DataFrames from different CSV files: exchange rates and oil prices"
      ]
    },
    {
      "cell_type": "markdown",
      "metadata": {
        "id": "yB6gdNG6rSBr"
      },
      "source": [
        "In order to be able to make statements about the relationships between exchange rates and the oil prices, the two data frames will be linked and combined."
      ]
    },
    {
      "cell_type": "markdown",
      "metadata": {
        "id": "3iMzMHKPuVt0"
      },
      "source": [
        "#### Adjusting the column 'date' for further mergings"
      ]
    },
    {
      "cell_type": "code",
      "metadata": {
        "id": "r9TuQjjkswnp"
      },
      "source": [
        "import pandas as pd\n",
        "exchangeRates = pd.read_csv('/content/gdrive/MyDrive/project_folder/exchangeRate-data/Exchange_US_EU.csv', delimiter=\";\", error_bad_lines=False)\n",
        "oilprices = pd.read_csv('/content/gdrive/MyDrive/project_folder/oilprice-data/Oilprice_BrentCrude.csv', delimiter=\";\", error_bad_lines=False)"
      ],
      "execution_count": 8,
      "outputs": []
    },
    {
      "cell_type": "code",
      "metadata": {
        "id": "qTs6NDKTt49q"
      },
      "source": [
        "exchangeRates = exchangeRates.rename(columns={'Datum':'date'})\n",
        "exchangeRates[\"date\"] = pd.to_datetime(exchangeRates[\"date\"]).dt.strftime('%Y/%m/%d')"
      ],
      "execution_count": 9,
      "outputs": []
    },
    {
      "cell_type": "code",
      "metadata": {
        "id": "h1oEjVmevUEd"
      },
      "source": [
        "oilprices = oilprices.rename(columns={'Datum':'date'})\n",
        "oilprices[\"date\"] = pd.to_datetime(oilprices[\"date\"]).dt.strftime('%Y/%m/%d')"
      ],
      "execution_count": 10,
      "outputs": []
    },
    {
      "cell_type": "markdown",
      "metadata": {
        "id": "HNy7DgCgvg8L"
      },
      "source": [
        "### Merge DataFrames: exchangeRates and oilprices"
      ]
    },
    {
      "cell_type": "code",
      "metadata": {
        "id": "2sDL-vxZv4ga"
      },
      "source": [
        "merged_oilPrice_echangeRate_DataFrame = pd.merge(exchangeRates, oilprices, on=\"date\") #merges the two data frames based on their common column \"date\" and saves the resulting DataFrame in \"merged_oilPrice_echangeRate_DataFrame\""
      ],
      "execution_count": 13,
      "outputs": []
    },
    {
      "cell_type": "code",
      "metadata": {
        "id": "I4Fm7yLYwlX0"
      },
      "source": [
        "merged_oilPrice_echangeRate_DataFrame  # 6 years of data about exchangeRates and oilprices in a single DataFrame"
      ],
      "execution_count": null,
      "outputs": []
    },
    {
      "cell_type": "markdown",
      "metadata": {
        "id": "A8zbuBKLm5ED"
      },
      "source": [
        "# Correlation between daily average fuel prices and weather data."
      ]
    },
    {
      "cell_type": "code",
      "metadata": {
        "id": "-viAWVaoM3AN"
      },
      "source": [
        "import seaborn as sns\n",
        "import pandas as pd\n",
        "price_weather_correlations = merged_year_DataFrame[['diesel', 'e5', 'e10','Temperature']].corr()\n",
        "sns.heatmap(price_weather_correlations, annot=True)"
      ],
      "execution_count": null,
      "outputs": []
    },
    {
      "cell_type": "markdown",
      "metadata": {
        "id": "I1D95qLMOKn5"
      },
      "source": [
        "Interpretation of the result: average fuel prices and average temperature show a medium positive correlation. In other words: \"The warmer the temperature, the higher the fuel prices.\""
      ]
    },
    {
      "cell_type": "markdown",
      "metadata": {
        "id": "PyAqv3xNTr0t"
      },
      "source": [
        "With seaborn we can visualize this corellation as a regression curve. This can be seen by running the following cell in the example of e5 prices:"
      ]
    },
    {
      "cell_type": "code",
      "metadata": {
        "id": "pptUt3RFP_Oa"
      },
      "source": [
        "import seaborn as sns\n",
        "sns.lmplot(data=merged_DataFrame, x=\"Temperature\", y=\"e5\")"
      ],
      "execution_count": null,
      "outputs": []
    },
    {
      "cell_type": "markdown",
      "metadata": {
        "id": "k0Oo7Oe1UXNW"
      },
      "source": [
        "## Work in progress: Next step: Mapping der Conditions auf 0/1 und korrelaiton untersuchen"
      ]
    },
    {
      "cell_type": "code",
      "metadata": {
        "id": "TuSuEmWUVXyZ"
      },
      "source": [
        "from sklearn.preprocessing import LabelEncoder\n",
        "encoder = LabelEncoder()"
      ],
      "execution_count": null,
      "outputs": []
    },
    {
      "cell_type": "code",
      "metadata": {
        "id": "9ba6VJImVdHr"
      },
      "source": [
        "encoder.fit_transform(merged_DataFrame.Conditions)"
      ],
      "execution_count": null,
      "outputs": []
    },
    {
      "cell_type": "code",
      "metadata": {
        "id": "voPbsYFzZjN7"
      },
      "source": [
        "pd.get_dummies(merged_DataFrame.Conditions)"
      ],
      "execution_count": null,
      "outputs": []
    },
    {
      "cell_type": "code",
      "metadata": {
        "id": "-TRI-DftaPE3"
      },
      "source": [
        "mapping = {value: index for index, value in enumerate(['Clear', 'Rain'])}"
      ],
      "execution_count": null,
      "outputs": []
    },
    {
      "cell_type": "code",
      "metadata": {
        "id": "PWu9jHTsarnd"
      },
      "source": [
        "merged_DataFrame.Conditions = merged_DataFrame.Conditions.apply(lambda x: mapping[x])"
      ],
      "execution_count": null,
      "outputs": []
    },
    {
      "cell_type": "markdown",
      "metadata": {
        "id": "PDRdCVvCo8TS"
      },
      "source": [
        "# Model Training - experimental"
      ]
    },
    {
      "cell_type": "markdown",
      "metadata": {
        "id": "ZZS1emNspcxp"
      },
      "source": [
        "In this sector, the models highlighted from the workshop will be applied."
      ]
    },
    {
      "cell_type": "markdown",
      "metadata": {
        "id": "dpXiHvtHFRdR"
      },
      "source": [
        "# Ideen aus Meeting für weiteres Vorgehen:"
      ]
    },
    {
      "cell_type": "markdown",
      "metadata": {
        "id": "vsoWNOuBFTw_"
      },
      "source": [
        "Für \"günstigste Tanskstelle\" bspw. durch einen merge anstatt Tankstellen ID den Tankstellennamen ausgeben"
      ]
    },
    {
      "cell_type": "markdown",
      "metadata": {
        "id": "6ibnNs48FahS"
      },
      "source": [
        "Über verschiedene .csv dateien hinweg durchschnittspreise und deren entwicklung anzeigen lassen. Timeframe könnte man innerhalb eines Monats und/oder über Jahre hinweg machen."
      ]
    },
    {
      "cell_type": "markdown",
      "metadata": {
        "id": "dfwDo5MaFnwO"
      },
      "source": [
        "#### Weitere Auswertungen der Tankerkoenig Daten\n",
        "\n",
        "Am Ende der Exploration alles kombinieren für Aussagen wie\n",
        "\n",
        "\n",
        "1. [] \"günstigste Tankstelle im Jahr 2020, 2019, ...\"\n",
        "2. [] \"welche Tankstelle war statistisch am häufigsten die günstigste\"\n",
        "3. [] \"welche Tankstelle sollte vermieden werden, aufgrund hoher  [ ]Durchschnittspreise\"\n",
        "4. [] Welche Tankstelle in welcher Saison besuchen?\" [ ]\n",
        "\n",
        "5. [X]Benzindaten aggregieren für neues DataFrame mit Durchschnittswerten pro Tag -> dafür eine Funktion.  --> darauf basierend kann man mit weather data mergen und ein kombiniertes DataFrame bauen für weitere Analyse\n",
        "\n",
        "6. [X]Visualisierung der Entwicklung von Sprit-Preisen eines Jahres\n"
      ]
    },
    {
      "cell_type": "markdown",
      "metadata": {
        "id": "XPWgGs-ods_j"
      },
      "source": [
        "Zur Untersuchung der Korrelation zwischen Wetterdaten und Spritpreisen:\n",
        "1. [] Korrelation mit \"Conditions\" über Preisänderung -> Preisänderung noch ermitteln"
      ]
    },
    {
      "cell_type": "markdown",
      "metadata": {
        "id": "z_Q55gKLrZjI"
      },
      "source": [
        "### Weitere Datensätze\n",
        "\n",
        "1. [X] Einbinden von Wetterdaten um Zusammenhänge zwischen Wetter und Preise zu identifizieren\n",
        "2. [] Einbinden von Ferien/Feiertags-Daten um Zusammenhänge zwischen Ferientage und Preise zu identifizieren\n",
        "3. [] Anpassung der Spalten \"Datum\" für Ölpreise und Ferien/Feiertags-Daten und Wechselkursen\n"
      ]
    }
  ]
}